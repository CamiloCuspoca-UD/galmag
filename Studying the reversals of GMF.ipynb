{
 "metadata": {
  "name": "",
  "signature": "sha256:ce0ab016016e0bd40afc54d4dc7ff26aa3ab7e00398214d11754d352640f4b38"
 },
 "nbformat": 3,
 "nbformat_minor": 0,
 "worksheets": [
  {
   "cells": [
    {
     "cell_type": "markdown",
     "metadata": {},
     "source": [
      " Introduction\n",
      "================\n",
      "\n",
      "In this notebook we examine the reversals in the magnetic field produced by te dynamo in a galaxy disk "
     ]
    },
    {
     "cell_type": "code",
     "collapsed": false,
     "input": [
      "from core.reversals import get_reversal_data \n",
      "from multiprocessing.pool import Pool\n",
      "# Pool used for the parallel calculations (there were some hangs and freezes without this)\n",
      "pool = Pool(8) # Keeps 8 worker processes open for the calculations"
     ],
     "language": "python",
     "metadata": {},
     "outputs": []
    },
    {
     "cell_type": "heading",
     "level": 2,
     "metadata": {},
     "source": [
      "Parameters"
     ]
    },
    {
     "cell_type": "code",
     "collapsed": false,
     "input": [
      "params =  { 'Ralpha': 1.0,\n",
      "              'h'     : 1.25,  # kpc\n",
      "              'Rgamma': 15.0, # kpc\n",
      "              'D'     : -7.0,\n",
      "              'Cn'    : array([1,2,2]),\n",
      "          }\n",
      "params2 =  { 'Ralpha': 1.0,\n",
      "              'h'     : 1.25,  # kpc\n",
      "              'Rgamma': 15.0, # kpc\n",
      "              'D'     : -20.0,\n",
      "              'Cn'    : array([1,2,2]),\n",
      "          }"
     ],
     "language": "python",
     "metadata": {},
     "outputs": []
    },
    {
     "cell_type": "markdown",
     "metadata": {},
     "source": [
      "Computes the $B_2/B_1$ and $B_3/B_1$ grids\n",
      "------------------------------\n",
      "A big array which contains all the reversals data (for 2 choices of parameters)\n",
      "\n",
      "NB $B_3$, in TeX corresponds to B2, $B_2$ to B1 and $B_1$ to B0. We need to organise this notation mess later."
     ]
    },
    {
     "cell_type": "code",
     "collapsed": false,
     "input": [
      "B2_B0_range = [-3,3]\n",
      "B1_B0_range = [-3,3]"
     ],
     "language": "python",
     "metadata": {},
     "outputs": []
    },
    {
     "cell_type": "code",
     "collapsed": false,
     "input": [
      "b10grid, b20grid, nrevs, R0, R1, R2 = get_reversal_data(n=150, params=params, \n",
      "                                                        B2_B0_range=B2_B0_range, B1_B0_range=B1_B0_range,\n",
      "                                                        pool=pool, processes=None)"
     ],
     "language": "python",
     "metadata": {},
     "outputs": []
    },
    {
     "cell_type": "code",
     "collapsed": false,
     "input": [
      "b10grid20, b20grid20, nrevs_D20, R0_D20, R1_D20, R2_D20 = get_reversal_data(n=70, params=params2,\n",
      "                                                        B2_B0_range=B2_B0_range, B1_B0_range=B1_B0_range,\n",
      "                                                        pool=pool, processes=None)"
     ],
     "language": "python",
     "metadata": {},
     "outputs": []
    },
    {
     "cell_type": "code",
     "collapsed": false,
     "input": [
      "cmap2 = cm.get_cmap('YlGnBu',20)\n",
      "cmap3 = cm.get_cmap('RdYlBu',3)\n",
      "\n",
      "figure(figsize=(18,6))\n",
      "for i, (quantity, name) in enumerate(( (nrevs,'number of reversals'), \n",
      "                                       (R0,'first reversal position'), \n",
      "                                       (R1,'second reversal position')      )):    \n",
      "    subplot(1,3,i+1)\n",
      "    \n",
      "    title(name)\n",
      "    if i==0:\n",
      "        cmap=cmap3\n",
      "    else:\n",
      "        cmap=cmap2\n",
      "        \n",
      "    imshow(quantity, cmap=cmap, extent=(b20grid[0,0],b20grid[-1,-1],b10grid[0,0],b10grid[-1,-1]))\n",
      "    ylabel(r'$B_2^{(0)}/B_1^{(0)}$')\n",
      "    xlabel(r'$B_3^{(0)}/B_1^{(0)}$')\n",
      "    \n",
      "    cb = colorbar(orientation='horizontal')\n",
      "    if i==0:\n",
      "        cb.set_ticks([0,1,2])\n",
      "    \n",
      "\n",
      "figure(figsize=(18,6))\n",
      "for i, (quantity, name) in enumerate(( (nrevs_D20,'number of reversals'), \n",
      "                                       (R0_D20,'first reversal position'), \n",
      "                                       (R1_D20,'second reversal position')  )):\n",
      "    if i==0:\n",
      "        nrevs_D20[nrevs_D20>2]=2\n",
      "        cmap=cmap3\n",
      "    else:\n",
      "        cmap=cmap2\n",
      "        \n",
      "    subplot(1,3,i+1)\n",
      "    title(name)\n",
      "    imshow(quantity, cmap=cmap, interpolation='none', extent=(b20grid20[0,0],b20grid20[-1,-1],b10grid20[0,0],b10grid20[-1,-1]))\n",
      "    cb = colorbar(orientation='horizontal')\n",
      "    if i==0:\n",
      "        cb.set_ticks([0,1,2,3])\n",
      "    "
     ],
     "language": "python",
     "metadata": {},
     "outputs": []
    },
    {
     "cell_type": "code",
     "collapsed": false,
     "input": [],
     "language": "python",
     "metadata": {},
     "outputs": []
    },
    {
     "cell_type": "code",
     "collapsed": false,
     "input": [],
     "language": "python",
     "metadata": {},
     "outputs": []
    },
    {
     "cell_type": "code",
     "collapsed": false,
     "input": [
      "from mpl_toolkits.mplot3d import Axes3D\n",
      "fig = figure(figsize=(15,10))\n",
      "ax = fig.add_subplot(221, projection='3d')\n",
      "surf = ax.plot_surface(b10grid, b20grid,R0, rstride=2, cstride=2, cmap='YlGnBu',\n",
      "                linewidth=0, antialiased=True)\n",
      "fig.colorbar(surf)\n",
      "\n",
      "ax2 = fig.add_subplot(222, projection='3d')\n",
      "ax2.plot_wireframe(b10grid, b20grid,R0)\n",
      "\n",
      "ax3 = fig.add_subplot(223, projection='3d')\n",
      "ax3.plot_surface(b10grid, b20grid,R1, rstride=2, cstride=2)\n",
      "ax4 = fig.add_subplot(224, projection='3d')\n",
      "ax4.plot_wireframe(b10grid, b20grid,R1)"
     ],
     "language": "python",
     "metadata": {},
     "outputs": []
    },
    {
     "cell_type": "code",
     "collapsed": false,
     "input": [
      "\n",
      "ok = abs(R0-8)<0.05\n",
      "figure(figsize=(15,6))\n",
      "subplot(1,2,1)\n",
      "plot(b20grid[ok], R1[ok], marker='.', linestyle='',color='0.6')\n",
      "\n",
      "b20s = unique(b20grid[ok])\n",
      "top = empty_like(b20s)\n",
      "bottom = empty_like(b20s)\n",
      "\n",
      "for i, b20 in enumerate(b20s):\n",
      "    top[i] = nanmax(R1[ok][b20grid[ok]==b20])\n",
      "    bottom[i] = nanmin(R1[ok][b20grid[ok]==b20])\n",
      "fill_between(b20s,top,bottom)\n",
      "\n",
      "xlabel(r'$B_3/B_1$')\n",
      "xlim(B2_B0_range)\n",
      "ylabel('position of the second reversal')\n",
      "title(r'If the first reversal is at $8\\pm 0.05{{\\rm kpc}}$')\n",
      "subplot(1,2,2)\n",
      "plot(b10grid[ok], R1[ok], marker='.', linestyle='',color='0.6')\n",
      "\n",
      "b10s = unique(b10grid[ok])\n",
      "top = empty_like(b10s)\n",
      "bottom = empty_like(b10s)\n",
      "\n",
      "for i, b10 in enumerate(b10s):\n",
      "    top[i] = nanmax(R1[ok][b10grid[ok]==b10])\n",
      "    bottom[i] = nanmin(R1[ok][b10grid[ok]==b10])\n",
      "fill_between(b10s,top,bottom)\n",
      "\n",
      "\n",
      "xlabel(r'$B_2/B_1$')\n",
      "xlim(B1_B0_range)\n",
      "ylabel('position of the second reversal')\n",
      "title(r'If the first reversal is at $8\\pm 0.05{{\\rm kpc}}$')\n"
     ],
     "language": "python",
     "metadata": {},
     "outputs": []
    },
    {
     "cell_type": "code",
     "collapsed": false,
     "input": [],
     "language": "python",
     "metadata": {},
     "outputs": []
    },
    {
     "cell_type": "code",
     "collapsed": false,
     "input": [
      "ok = abs(R1-8)<0.5\n",
      "figure(figsize=(15,6))\n",
      "subplot(1,2,1)\n",
      "plot(b20grid[ok], R0[ok], marker='.', linestyle='',color='0.6')\n",
      "\n",
      "b20s = unique(b20grid[ok])\n",
      "top = empty_like(b20s)\n",
      "bottom = empty_like(b20s)\n",
      "\n",
      "for i, b20 in enumerate(b20s):\n",
      "    top[i] = nanmax(R0[ok][b20grid[ok]==b20])\n",
      "    bottom[i] = nanmin(R0[ok][b20grid[ok]==b20])\n",
      "fill_between(b20s,top,bottom)\n",
      "\n",
      "xlabel(r'$B_3/B_1$')\n",
      "xlim(B2_B0_range)\n",
      "ylabel('position of the first reversal')\n",
      "title(r'If the second reversal is at $8\\pm 0.5{{\\rm kpc}}$')\n",
      "\n",
      "subplot(1,2,2)\n",
      "plot(b10grid[ok], R0[ok], marker='o', linestyle='')\n",
      "\n",
      "b10s = unique(b10grid[ok])\n",
      "top = empty_like(b10s)\n",
      "bottom = empty_like(b10s)\n",
      "\n",
      "for i, b10 in enumerate(b10s):\n",
      "    top[i] = nanmax(R0[ok][b10grid[ok]==b10])\n",
      "    bottom[i] = nanmin(R0[ok][b10grid[ok]==b10])\n",
      "fill_between(b10s,top,bottom)\n",
      "\n",
      "\n",
      "xlim(B1_B0_range)\n",
      "xlabel(r'$B_2/B_1$')\n",
      "ylabel('position of the first reversal')\n",
      "title(r'If the second reversal is at $8\\pm 0.5{{\\rm kpc}}$')"
     ],
     "language": "python",
     "metadata": {},
     "outputs": []
    },
    {
     "cell_type": "markdown",
     "metadata": {},
     "source": [
      "Example choice of $B_2/B_1$ and $B_3/B_1$\n",
      "-------------------------------------------\n",
      "We will require the first reversal $R_1\\approx 8{\\rm kpc}$ and select the solution with the smallest $B_3/B_1$.\n",
      "\n",
      "First, where is this point in the parameter space?"
     ]
    },
    {
     "cell_type": "code",
     "collapsed": false,
     "input": [
      "ok = abs(R0-5)<0.05\n",
      "ok *= abs(R1-8)<0.05\n",
      "\n",
      "select= argmin((b10grid[ok])**2)\n",
      "\n",
      "b20choice = b20grid[ok][select]\n",
      "b10choice = b10grid[ok][select]\n",
      "\n",
      "# Some sanity checking...\n",
      "print 'b2/b0', b20grid[ok][select]\n",
      "print 'b1/b0', b10grid[ok][select]\n",
      "print 'R0', R0[ok][select]\n",
      "print 'R1', R1[ok][select]\n",
      "print 'R2', R2[ok][select]\n",
      "print 'nrevs', nrevs[ok][select]\n",
      "imshow(nrevs, cmap=cmap3, interpolation='none', extent=(b20grid[0,0],b20grid[-1,-1],b10grid[0,0],b10grid[-1,-1]))\n",
      "plot( b20choice,b10choice, marker='.', color='g', markersize=20)\n",
      "cb = colorbar()\n",
      "cb.set_ticks([0,1,2,3])"
     ],
     "language": "python",
     "metadata": {},
     "outputs": []
    },
    {
     "cell_type": "markdown",
     "metadata": {},
     "source": [
      "Lets see how $B_\\phi$ looks"
     ]
    },
    {
     "cell_type": "code",
     "collapsed": false,
     "input": [
      "from core.reversals import get_B_phi\n",
      "r = linspace(0, 15)\n",
      "for b1_b0 in linspace(b10choice*0.8,b10choice*1.2,3):\n",
      "    Bphi = get_B_phi(r, b1_b0, b20choice, params)\n",
      "    plot(r, Bphi, label='{0:.1f}'.format(b1_b0))\n",
      "xlabel('$r$')\n",
      "legend(frameon=False, loc='lower right', title='$B_2/B_1$')\n",
      "title('$B_3/B_1 = {0:.1f}$'.format(b20choice))\n",
      "ylabel(r'$B_\\phi$')\n",
      "grid()"
     ],
     "language": "python",
     "metadata": {},
     "outputs": []
    },
    {
     "cell_type": "markdown",
     "metadata": {},
     "source": [
      "Now lets compute the full field based on this choice"
     ]
    },
    {
     "cell_type": "code",
     "collapsed": false,
     "input": [
      "p =  { 'Ralpha': 1.0,\n",
      "              'h'     : 1.25,  # kpc\n",
      "              'Rgamma': 15.0, # kpc\n",
      "              'D'     : -7.0,\n",
      "              'Cn'    : array([1,b10choice,b20choice]),\n",
      "          }\n"
     ],
     "language": "python",
     "metadata": {},
     "outputs": []
    },
    {
     "cell_type": "code",
     "collapsed": false,
     "input": [
      "from core.disk import get_B_disk\n",
      "\n",
      "No=80\n",
      "x = linspace(-12,12,No)\n",
      "y = linspace(-12,12,No)\n",
      "z = linspace(-p['h'],p['h'],No)\n",
      "\n",
      "xx, yy, zz  = meshgrid(x,y,z)\n",
      "\n",
      "\n",
      "Bx, By, Bz  = get_B_disk(xx,yy,zz, p)"
     ],
     "language": "python",
     "metadata": {},
     "outputs": []
    },
    {
     "cell_type": "code",
     "collapsed": false,
     "input": [
      "figure(figsize=(15,15))\n",
      "skip=4\n",
      "quiver(x[::skip], y[::skip], Bx[:,:,No/2][::skip,::skip], By[:,:,No/2][::skip,::skip], pivot='mid',color='#253494')\n",
      "streamplot(x, y, Bx[:,:,No/2], By[:,:,No/2],color='#7fcdbb')\n",
      "axis([x.min(),x.max(),y.min(),y.max()])\n",
      "xlabel('$x$')\n",
      "ylabel('$y$')\n",
      "title('$z=0$')\n",
      "\n",
      "figure(figsize=(15,15))\n",
      "quiver(x[::skip],z[::skip],Bx[:,No/2,:][::skip,::skip], Bz[:,No/2,:][::skip,::skip], pivot='mid',color='#253494')\n",
      "streamplot(x, z, Bx[:,No/2,:], Bz[:,No/2,:],color='#7fcdbb')\n",
      "axis([x.min(),x.max(),z.min(),z.max()])\n",
      "xlabel('$x$')\n",
      "ylabel('$z$')\n",
      "title('$y=0$')\n",
      "\n",
      "iz = argmin((z-0.5)**2)\n",
      "print z[iz]\n",
      "figure(figsize=(15,15))\n",
      "quiver(x[::skip], y[::skip], Bx[:,:,iz][::skip,::skip], By[:,:,iz][::skip,::skip], pivot='mid',color='#253494')\n",
      "streamplot(x, y, Bx[:,:,iz], By[:,:,iz],color='#7fcdbb')\n",
      "axis([x.min(),x.max(),y.min(),y.max()])\n",
      "xlabel('$x$')\n",
      "ylabel('$y$')\n",
      "title('$z=0.5$')"
     ],
     "language": "python",
     "metadata": {},
     "outputs": []
    },
    {
     "cell_type": "code",
     "collapsed": false,
     "input": [],
     "language": "python",
     "metadata": {},
     "outputs": []
    },
    {
     "cell_type": "code",
     "collapsed": false,
     "input": [],
     "language": "python",
     "metadata": {},
     "outputs": []
    },
    {
     "cell_type": "code",
     "collapsed": false,
     "input": [],
     "language": "python",
     "metadata": {},
     "outputs": []
    }
   ],
   "metadata": {}
  }
 ]
}