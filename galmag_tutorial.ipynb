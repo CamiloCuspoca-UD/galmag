{
 "cells": [
  {
   "cell_type": "markdown",
   "metadata": {},
   "source": [
    "# GalMag - A Python tool for computing realistic galactic magnetic fields #"
   ]
  },
  {
   "cell_type": "markdown",
   "metadata": {},
   "source": [
    "Welcome to the GalMag tutorial and basic usage guide."
   ]
  },
  {
   "cell_type": "markdown",
   "metadata": {},
   "source": [
    "### Quick start ###\n",
    "\n",
    "The code uses an object named  `B_field` to store all the magnetic field information.\n",
    "\n",
    "Associated with this, there is a coordinate grid which has to be set up at the time of the \n",
    "`B_field` initialization."
   ]
  },
  {
   "cell_type": "code",
   "execution_count": null,
   "metadata": {
    "collapsed": false
   },
   "outputs": [],
   "source": [
    "%matplotlib notebook\n",
    "%pylab\n",
    "\n",
    "\n",
    "import galmag\n",
    "from galmag.B_field import B_field\n",
    "from pylab import *\n",
    "\n",
    "# Maximum and minimum values of the coordinates for each direction\n",
    "box_limits = [[-15, 15],[-15, 15],[-15, 15]] # kpc\n",
    "box_resolution = [100,100,100]\n",
    "\n",
    "B = B_field(box_limits, box_resolution)"
   ]
  },
  {
   "cell_type": "markdown",
   "metadata": {},
   "source": [
    "The grid - which is an uniform cartesian grid in the default case - can be accessed through the attribute `B_field.grid`. \n",
    "\n",
    "This attribute contains a Grid object, which itself contains [distributed data objects](https://gitlab.mpcdf.mpg.de/ift/D2O) (or d2o's, which are basically *parallelizable* [numpy](http://www.numpy.org/) arrays) in the coordinate attributes `x`, `y`, `z`, `r_cylindrical`, `r_spherical`, `theta` and `phi`. \n",
    "\n",
    "The coordinate systems place the galactic mid-plane at $z=0$, $\\theta = \\pi/2$."
   ]
  },
  {
   "cell_type": "code",
   "execution_count": null,
   "metadata": {
    "collapsed": false
   },
   "outputs": [],
   "source": [
    "# Example access to the coordinate grid\n",
    "print 'r_cylindrical type:',type(B.grid.r_spherical)\n",
    "print 'r_cylindrical-grid shape:', B.grid.r_cylindrical.shape"
   ]
  },
  {
   "cell_type": "markdown",
   "metadata": {},
   "source": [
    "Once the `B_field` object is initialized, one can add a __disk field__ component. \n",
    "One can do this by specifying\n",
    "1. The strength of $B_\\phi$ (the azimutal component of the magnetic field) \n",
    "   at the solar radius (on the midplade),\n",
    "2. The positions of the field reversals (the code will try to find solutions\n",
    "   with *at least* these reversals, but there can be more of them),\n",
    "3. The minimum number of modes to be used for this.\n",
    "\n",
    "Itens 1 and 3 are actually optional: if absent, a strength of $-3\\,\\mu{\\rm G}$ is\n",
    "assumed for the $\\phi$ component at the solar radius. There are, of course,\n",
    "many other parameters involved in this calculation which for now are kept with\n",
    "their default values.\n",
    "\n",
    "The following code snippet exemplifies the use of `B_field.add_disk_field` method."
   ]
  },
  {
   "cell_type": "code",
   "execution_count": null,
   "metadata": {
    "collapsed": false
   },
   "outputs": [],
   "source": [
    "reversals_positions = [4.7,12.25] # Requires 2 reversals at 4.1 kpc and 12.25\n",
    "B_phi_solar_radius = -3 # muG \n",
    "number_of_modes = 3\n",
    "\n",
    "B.add_disk_field(reversals=reversals_positions, \n",
    "                 B_phi_solar_radius=B_phi_solar_radius,\n",
    "                 number_of_modes=number_of_modes)"
   ]
  },
  {
   "cell_type": "markdown",
   "metadata": {},
   "source": [
    "One can also include a __halo field__, using the `B_field.add_halo_field` method. \n",
    "\n",
    "Here we keep all the parameters with their standard values and choose to use only \n",
    "adjust the value of $B_{\\phi, {\\rm halo}}$ at a reference position which roughly \n",
    "corresponds to the position of the Sun in the Galaxy."
   ]
  },
  {
   "cell_type": "code",
   "execution_count": null,
   "metadata": {
    "collapsed": false
   },
   "outputs": [],
   "source": [
    "Bphi_sun = 0.1 # muG at the Sun's position\n",
    "\n",
    "B.add_halo_field(halo_ref_Bphi=Bphi_sun)"
   ]
  },
  {
   "cell_type": "markdown",
   "metadata": {},
   "source": [
    "Now the galactic magnetic field has been computed and is stored in the `B_field` object. \n",
    "Specific field components can be accessed in the same way as grid components were\n",
    "accessed. The following snippet exemplifies this showing the $x$-depence of $B_\\phi$. "
   ]
  },
  {
   "cell_type": "code",
   "execution_count": null,
   "metadata": {
    "collapsed": false
   },
   "outputs": [],
   "source": [
    "x = array(B.grid.x[50:,50,50]) # The conversion into a numpy array is sometimes\n",
    "Bphi = array(B.phi[50:,50,50]) # required to make matplotlib work properly.\n",
    "y = B.grid.x[50,50,50]\n",
    "z = B.grid.x[50,50,50]\n",
    "\n",
    "from galmag.analysis.visualization import plot_x_y_uniform, plot_x_z_uniform, plot_y_z_uniform, std_setup\n",
    "std_setup() # Sets matplotlib's rc parameters (fonts, colors, sizes, etc)\n",
    "\n",
    "figure(figsize=(12,3))\n",
    "title(r'$y={0:.2f}\\,\\rm kpc$, $z={1:.2f}\\,\\rm kpc$'.format(y,z))\n",
    "plot(x, Bphi, )\n",
    "xlabel(r'$x\\,\\,[{\\rm kpc}]$')\n",
    "ylabel(r'$B_\\phi\\,\\,[\\mu{\\rm G}]$')\n",
    "grid()\n",
    "\n",
    "figure(figsize=(8,7))\n",
    "title(r'$z={0:.2f} \\,\\rm kpc$'.format(z))\n",
    "plot_x_y_uniform(B.disk, iz=50, field_lines=False)\n",
    "show()"
   ]
  },
  {
   "cell_type": "markdown",
   "metadata": {},
   "source": [
    "Obs. Note that the slicing used to create the previous plot exploits the fact that the indices in the cartesian follow the coordinates (i.e. the first index corresponds to $x$, the second to $y$ and the third to $z$). "
   ]
  },
  {
   "cell_type": "markdown",
   "metadata": {},
   "source": [
    "__Separate__ field information can be accessed at any point through the attributes \n",
    "`B_field.disk` and `B_field.halo`. For example, it is possible to plot the\n",
    "$x$-dependence of the halo field in the following way."
   ]
  },
  {
   "cell_type": "code",
   "execution_count": null,
   "metadata": {
    "collapsed": false
   },
   "outputs": [],
   "source": [
    "x = array(B.grid.x[50:,50,50])\n",
    "Bphi_halo = array(B.halo.phi[50:,50,50])\n",
    "Bphi_disk = array(B.disk.phi[50:,50,50])\n",
    "y = B.grid.x[50,50,50]\n",
    "z = B.grid.x[50,50,50]\n",
    "\n",
    "figure(figsize=(12,5))\n",
    "\n",
    "subplot(2,1,1)\n",
    "title('$y={0:.2f}$, $z={1:.2f}$'.format(y,z), fontsize=14)\n",
    "plot(x, Bphi_disk, )\n",
    "ylabel(r'$B_{\\phi,\\rm disk}\\,\\,[\\mu{\\rm G}]$', fontsize=14)\n",
    "grid()\n",
    "\n",
    "subplot(2,1,2)\n",
    "plot(x, Bphi_halo, )\n",
    "xlabel(r'$x\\,\\,[{\\rm kpc}]$', fontsize=14)\n",
    "ylabel(r'$B_{\\phi,\\rm halo}\\,\\,[\\mu{\\rm G}]$', fontsize=14)\n",
    "grid()\n",
    "show()"
   ]
  },
  {
   "cell_type": "markdown",
   "metadata": {},
   "source": [
    "All the used __parameters__ can be accessed at any point through the \n",
    "`parameters` attribute, which contain a dictionary."
   ]
  },
  {
   "cell_type": "code",
   "execution_count": null,
   "metadata": {
    "collapsed": false
   },
   "outputs": [],
   "source": [
    "B.parameters"
   ]
  },
  {
   "cell_type": "markdown",
   "metadata": {},
   "source": [
    "All the parameter names can be used as keyword arguments for the methods \n",
    "`add_disk_field` and `add_halo_field` previously shown.\n",
    "\n",
    "Also, it is possible (and preferable) to access separately the parameters associated with\n",
    "a specific component -- i.e. halo or disc. "
   ]
  },
  {
   "cell_type": "code",
   "execution_count": null,
   "metadata": {
    "collapsed": false
   },
   "outputs": [],
   "source": [
    "B.disk.parameters"
   ]
  },
  {
   "cell_type": "markdown",
   "metadata": {},
   "source": [
    "(*This is actually safer than just using `B_field.parameters`*)"
   ]
  },
  {
   "cell_type": "markdown",
   "metadata": {},
   "source": [
    "## Grid object ##\n",
    "\n",
    "All the calculations are done on top of a coordinate grid, which is stored as \n",
    "a `Grid` object. This class can be directly accessed from the module `Grid`, \n",
    "and instantiated using a similar syntax as the one used for the `B_field`."
   ]
  },
  {
   "cell_type": "code",
   "execution_count": null,
   "metadata": {
    "collapsed": false
   },
   "outputs": [],
   "source": [
    "from galmag.Grid import Grid\n",
    "\n",
    "# A cartesian grid can be constructed as follows\n",
    "cartesian_grid = Grid(box=[[-15, 15],[-15, 15],[-15, 15]],\n",
    "                      resolution = [12,12,12],\n",
    "                      grid_type = 'cartesian' # Optional\n",
    "                      )\n",
    "# For cylindrical grid, the limits are specified assuming \n",
    "# the order: r, theta, phi (where the last is the azimuth)\n",
    "cylindrical_grid = Grid(box=[[0.25, 15],[-pi,pi],[-15,15]],\n",
    "                      resolution = [9,12,9],\n",
    "                      grid_type = 'cylindrical')\n",
    "\n",
    "# For spherical grid, the limits are specified assuming \n",
    "# the order: r, phi, z\n",
    "spherical_grid = Grid(box=[[0, 15],[0, pi], [-pi,pi],],\n",
    "                      resolution = [12,10,10],\n",
    "                      grid_type = 'spherical')"
   ]
  },
  {
   "cell_type": "markdown",
   "metadata": {},
   "source": [
    "The geometry of the different grids can be easily understood from \n",
    "the following plot (note the automatic conversion to cartesian \n",
    "coordinates through the attributes `x`, `y`, `z`)."
   ]
  },
  {
   "cell_type": "code",
   "execution_count": null,
   "metadata": {
    "collapsed": false
   },
   "outputs": [],
   "source": [
    "figure(figsize=(12,5))\n",
    "subplot(1,2,1)\n",
    "scatter(cartesian_grid.x, cartesian_grid.y, color='y', label='cartesian', alpha=0.5)\n",
    "scatter(cylindrical_grid.x, cylindrical_grid.y, label='cylindrical', alpha=0.5)\n",
    "scatter(spherical_grid.x, spherical_grid.y, color='g', label='spherical', alpha=0.5)\n",
    "xlabel('x'); ylabel('y')\n",
    "legend()\n",
    "subplot(1,2,2)\n",
    "scatter(cartesian_grid.x, cartesian_grid.z, color='y', alpha=0.5)\n",
    "scatter(cylindrical_grid.x, cylindrical_grid.z, alpha=0.5)\n",
    "scatter(spherical_grid.x, spherical_grid.z, color='g', alpha=0.5)\n",
    "xlabel('x'); ylabel('z')\n",
    "show()"
   ]
  },
  {
   "cell_type": "markdown",
   "metadata": {},
   "source": [
    "## Disc field ##\n",
    "\n",
    "The disc field in GalMag is constructed by expanding the dynamo solution (associated \n",
    "with a given choice of parameters) in a series of modes and assigning an adequate \n",
    "choice of coefficients $C_n\\!$'s to the $n$ dominant modes.\n",
    "\n",
    "### Direct choice of normalizations ###\n",
    "\n",
    "The choice of the $C_n$' can be done explicitly setting up the parameter \n",
    "`disk_modes_normalization`, which should contain an array of coefficients.\n",
    "Each mode is pre-normalized so that its absoluted value at a reference \n",
    "cylindrical radius is unit, i.e. $| \\mathbf{B}_{\\rm mode}(R_{\\rm ref},0,0)|=1$.\n",
    "$R_{\\rm ref}$ is set by the parameter  `disk_ref_r_cylindrical`, whose default\n",
    "value is $8.5\\,{\\rm kpc}$, roughly the sun's radius.\n",
    "\n",
    "To exemplify this, we will generate a new `B_field` object based on\n",
    "an uniform cylindrical grid and add to it a disc magnetic field\n",
    "corresponding to the second mode only."
   ]
  },
  {
   "cell_type": "code",
   "execution_count": null,
   "metadata": {
    "collapsed": false
   },
   "outputs": [],
   "source": [
    "figure(figsize=(12,5))\n",
    "box_limits = [[1e-8, 15],# r [kpc]\n",
    "              [0,0], # phi\n",
    "              [0,0]] # z [kpc]\n",
    "box_resolution = [100,1,1] # No phi or z variation\n",
    "Bcyl = B_field(box_limits, box_resolution, grid_type='cylindrical')\n",
    "\n",
    "Bcyl.add_disk_field(disk_modes_normalization=[0,2]) # Skips first mode, normalization 2 for the second mode\n",
    "\n",
    "y = sqrt(Bcyl.r_cylindrical[:,0,0]**2 + Bcyl.phi[:,0,0]**2 +Bcyl.z[:,0,0]**2)\n",
    "x = array(Bcyl.grid.r_cylindrical[:,0,0])\n",
    "plot(x,y)\n",
    "ylabel(r'$| \\mathbf{B}_{\\rm mode}|$')\n",
    "xlabel(r'$R\\,[{\\rm kpc}]$')\n",
    "grid()\n",
    "show()"
   ]
  },
  {
   "cell_type": "markdown",
   "metadata": {},
   "source": [
    "(*The strong - possibly unphysical - peak in the centre is produced by the shape of the assumed rotational\n",
    "shear profile. The reader/user is advised to experiment with different shear profiles.*)\n",
    "\n",
    "For a more interesting application, let us examine how $B_\\phi$ components of the different modes behave."
   ]
  },
  {
   "cell_type": "code",
   "execution_count": null,
   "metadata": {
    "collapsed": false,
    "scrolled": false
   },
   "outputs": [],
   "source": [
    "figure(figsize=(12,5))\n",
    "box_limits = [[1e-8, 15],# r [kpc]\n",
    "              [0,0], # phi\n",
    "              [0,0]] # z [kpc]\n",
    "box_resolution = [100,1,1] # No phi or z variation\n",
    "Bcyl = B_field(box_limits, box_resolution, grid_type='cylindrical')\n",
    "\n",
    "nmodes = 6\n",
    "\n",
    "for i in range(nmodes):\n",
    "    mode_norm = zeros((i+1))\n",
    "    mode_norm[i]=1\n",
    "    \n",
    "    # Overwrites the disk field with another mode\n",
    "    Bcyl.add_disk_field(disk_modes_normalization=mode_norm)\n",
    "    \n",
    "    x = array(Bcyl.grid.r_cylindrical[:,0,0])\n",
    "    y = array(Bcyl.phi[:,0,0])\n",
    "    plot(x,y/abs(y).max(), label='mode {}'.format(i+1))\n",
    "    ylabel(r'$B_\\phi/\\max(B_\\phi)$')\n",
    "    xlabel(r'$R\\,[{\\rm kpc}]$')\n",
    "legend(loc='lower right', frameon=False)\n",
    "grid()\n",
    "show()"
   ]
  },
  {
   "cell_type": "markdown",
   "metadata": {},
   "source": [
    "### Reversals ###"
   ]
  },
  {
   "cell_type": "markdown",
   "metadata": {},
   "source": [
    "As it was discussed in the _Quick Start_ section, the disk field can be \n",
    "constructed by specifying the position of the magnetic field reversals\n",
    "(positions $R_{\\rm rev}$ along the mid-plane where $B_\\phi$ changes sign), \n",
    "the strength of the field at a reference point (generally \n",
    "$R_{\\rm Sun}\\approx 8.5\\,{\\rm kpc}$) and the number of modes to be used.\n",
    "\n",
    "This is done using a *least squares method* to find the choice of $C_n$'s\n",
    "which offers best fit to these constraints. It is worth noting that such\n",
    "solution is not necessarily unique and, for some special cases, may not \n",
    "be exact. \n",
    "\n",
    "Thus, while this is a good tool for the quick generation of examples, the \n",
    "user should use it carefully."
   ]
  },
  {
   "cell_type": "code",
   "execution_count": null,
   "metadata": {
    "collapsed": false
   },
   "outputs": [],
   "source": [
    "figure(figsize=(12,5))\n",
    "reversals_positions = [3,10] \n",
    "B_phi_solar_radius = 3 # muG \n",
    "number_of_modes = 4\n",
    "\n",
    "Bcyl.add_disk_field(reversals=reversals_positions, \n",
    "                 B_phi_solar_radius=B_phi_solar_radius,\n",
    "                 number_of_modes=number_of_modes)\n",
    "\n",
    "y = array(Bcyl.phi[:,0,0])\n",
    "x = array(Bcyl.grid.r_cylindrical[:,0,0])\n",
    "title(r'Reversals at $3$ and $10\\,\\rm kpc$ using 4 modes.')\n",
    "plot(x,x*0, 'r:', alpha=0.5)\n",
    "plot(x,y)\n",
    "ylabel(r'$B_\\phi$')\n",
    "xlabel(r'$R\\,[{\\rm kpc}]$')\n",
    "grid()\n",
    "show()"
   ]
  },
  {
   "cell_type": "markdown",
   "metadata": {},
   "source": [
    "GalMag's choice of $C_n$'s can found in the parameters dictionary."
   ]
  },
  {
   "cell_type": "code",
   "execution_count": null,
   "metadata": {
    "collapsed": false
   },
   "outputs": [],
   "source": [
    "Bcyl.parameters"
   ]
  },
  {
   "cell_type": "markdown",
   "metadata": {},
   "source": [
    "### Disc parameters ###\n",
    "\n",
    "The following parameters control the disc magnetic field:\n",
    "\n",
    "\n",
    "1. `disk_dynamo_number` - Default: -20. \n",
    "\n",
    "   Dynamo number, $D= R_\\omega R_\\alpha$, associated with the disc component. \n",
    "   \n",
    "   .\n",
    "   \n",
    "2. `disk_field_decay` - Default: True\n",
    "\n",
    "   Sets behaviour for $|z|>h(R)$. If `True`, the field will decay \n",
    "   with $|z|^{-3}$, otherwise, the field will be assumed to be constant.\n",
    "   \n",
    "   .\n",
    "   \n",
    "3. `disk_height` - Default: 0.4 $[\\rm kpc ]$,\n",
    "\n",
    "    Disc height at the solar radius, $h_\\odot$.\n",
    "\n",
    "    .\n",
    "4. `disk_height_function` - Default: `gmf_tool.disk_profiles.exponential_scale_height`\n",
    "    \n",
    "    Disc height as a function of the cylindrical radius, $h(R)$. The default function \n",
    "    corresponds to an exponential disc. A function of a constant height disc can be found in\n",
    "    `gmf_tool.disk_profiles.constant_scale_height`\n",
    "    \n",
    "    .\n",
    "5. `disk_modes_normalization`.\n",
    "    \n",
    "    An n-array containing the the coefficients of the first n modes\n",
    "    (see Direct choice of normalizations section).\n",
    "    \n",
    "    .\n",
    "6. `disk_radius` - Default: 20 $[\\rm kpc]$\n",
    "    \n",
    "    Radius of the dynamo active region of the disc.\n",
    "    \n",
    "    .\n",
    "7. `disk_rotation_function` - Default: `gmf_tool.disk_profiles.Clemens_Milky_Way_rotation_curve`\n",
    "\n",
    "    Rotation curve of the disc. By default, assumes the rotation curve obtained \n",
    "    by Clemens (1985). One alternative, mostly for testing is\n",
    "    gmf_tool.disk_profiles.solid_body_rotation_curve.   \n",
    "    \n",
    "    .\n",
    "8. `disk_shear_function` - Default:  `gmf_tool.disk_profiles.Clemens_Milky_Way_shear_rate`\n",
    "\n",
    "    Shear rate as a function of the cylindrical radius of the disc. \n",
    "    By default, assumes a shear rate compatible with the rotation \n",
    "    curve obtained by Clemens (1985). Also available is (again, mostly\n",
    "    for testing) is a constant shear profile:\n",
    "    gmf_tool.disk_profiles.constant_shear_rate   \n",
    "    \n",
    "    .\n",
    "9. `disk_turbulent_induction`: 0.6,\n",
    "\n",
    "    Dimensionless intensity of helical turbulence, $R_\\alpha$.\n",
    "    \n",
    "    .\n",
    "10. `solar_radius`: 8.5 $[\\rm kpc]$\n",
    "    \n",
    "    Cylindar radius corresponding to the Sun's position, $R_\\odot$. \n",
    "    This is used both for the normalization of the magnetic field and for the normalization\n",
    "    of the height profile.\n",
    "\n",
    ".\n"
   ]
  },
  {
   "cell_type": "markdown",
   "metadata": {},
   "source": [
    "## Halo field ##\n",
    "\n",
    "To specify the halo field, one chooses the field strength at a \n",
    "reference position, whether the field is symmetric or anti-symmetric\n",
    "and the number of free-decay modes used to construct the solution.\n",
    "All these (and other parameters listed later) can be used as arguments\n",
    "for the `B_field.add_halo_field` method.\n",
    "\n",
    "Generally, more than one solution is found for a given set of parameters.\n",
    "The `B_field.add_halo_field` method will include the one with the \n",
    "*largest growth rate*.\n"
   ]
  },
  {
   "cell_type": "markdown",
   "metadata": {},
   "source": [
    "It is possible to access the __growth/decay rate__ of the solution found \n",
    "through the attribute `B_field_component.growth_rate`. \n",
    "\n",
    "Similarly, the coefficients used can be accessed using `B_field_component.coefficients`."
   ]
  },
  {
   "cell_type": "code",
   "execution_count": null,
   "metadata": {
    "collapsed": false
   },
   "outputs": [],
   "source": [
    "# Using the previously defined B object\n",
    "B.add_halo_field(\n",
    "    # Number of free decay modes to be used in the Galerkin expansion\n",
    "    halo_n_free_decay_modes = 4,\n",
    "    # cylindrical radius of the reference point\n",
    "    halo_ref_radius = 9,\n",
    "    # z coordinate of the reference point\n",
    "    halo_ref_z = 0.02,\n",
    "    # B_phi value at the reference point\n",
    "    halo_ref_Bphi = 4.1, # [muG]\n",
    "    # Chooses between symmetric and anti-symmetric solution\n",
    "    halo_symmetric_field = True # Symmetric\n",
    "    )"
   ]
  },
  {
   "cell_type": "code",
   "execution_count": null,
   "metadata": {
    "collapsed": false,
    "scrolled": true
   },
   "outputs": [],
   "source": [
    "figure(figsize=(13.1,11))\n",
    "subplot(2,2,1)\n",
    "title('Halo only')\n",
    "plot_x_z_uniform(B.halo, skipx=4,skipz=4, iy=49)\n",
    "subplot(2,2,2)\n",
    "title('Halo + disk')\n",
    "plot_x_z_uniform(B, skipx=4,skipz=4, iy=49)\n",
    "subplot(2,2,3)\n",
    "title('Halo only')\n",
    "plot_x_y_uniform(B.halo, skipy=5,skipx=5, iz=49, field_lines=False)\n",
    "subplot(2,2,4)\n",
    "title('Halo + disk')\n",
    "plot_x_y_uniform(B, skipy=5,skipx=5, iz=49, field_lines=False)\n",
    "show()"
   ]
  },
  {
   "cell_type": "code",
   "execution_count": null,
   "metadata": {
    "collapsed": false,
    "scrolled": false
   },
   "outputs": [],
   "source": [
    "print 'Growth rate: ', B.halo.growth_rate\n",
    "print 'Coefficientes: ', B.halo.coefficients\n",
    "B.halo.parameters"
   ]
  },
  {
   "cell_type": "markdown",
   "metadata": {},
   "source": [
    "### Galerkin expansion coefficients ###\n",
    "\n",
    "It is likely that one may want to study directly which choices of parameters\n",
    "lead to which growth rates. This can be done using the module `gmf_tool.galerkin`,\n",
    "which contains the function `Galerkin_expansion_coefficients`."
   ]
  },
  {
   "cell_type": "code",
   "execution_count": null,
   "metadata": {
    "collapsed": false
   },
   "outputs": [],
   "source": [
    "from galmag.galerkin import Galerkin_expansion_coefficients"
   ]
  },
  {
   "cell_type": "markdown",
   "metadata": {},
   "source": [
    "The function requires a dictionary containing the following parameters (described individually in the comments):"
   ]
  },
  {
   "cell_type": "code",
   "execution_count": null,
   "metadata": {
    "collapsed": false
   },
   "outputs": [],
   "source": [
    "p = { # Square root of the number of grid points used in the calculations\n",
    "      'halo_Galerkin_ngrid': 500,\n",
    "      # Function specifying the rotation curve of the halo\n",
    "      'halo_rotation_function': galmag.halo_profiles.simple_V,\n",
    "      # Function specifying the alpha profile of the halo\n",
    "      'halo_alpha_function': galmag.halo_profiles.simple_alpha,\n",
    "      # R_\\alpha \n",
    "      'halo_turbulent_induction': 7.7,\n",
    "      # R_\\omega\n",
    "     'halo_rotation_induction': 200.0,\n",
    "      # Number of free decay modes to be used for the expansion\n",
    "     'halo_n_free_decay_modes': 4,\n",
    "      # Whether the field is symmetric or antisymmetric \n",
    "      'halo_symmetric_field': True,\n",
    "      # Defines the dynamo type\n",
    "      'halo_dynamo_type': 'alpha-omega'\n",
    "     }"
   ]
  },
  {
   "cell_type": "markdown",
   "metadata": {},
   "source": [
    "The function returns the growth rates and the coefficients, $a_i$ of the free decay modes.\n",
    "Optionally, the intermediate matrix \n",
    "      $W_{ij} = \\int \\mathbf{B_j} \\cdot \\hat{W} \\,\\mathbf{B_i}$ is "
   ]
  },
  {
   "cell_type": "code",
   "execution_count": null,
   "metadata": {
    "collapsed": false
   },
   "outputs": [],
   "source": [
    "vals, vecs, Wij = Galerkin_expansion_coefficients(p, return_matrix=True)"
   ]
  },
  {
   "cell_type": "code",
   "execution_count": null,
   "metadata": {
    "collapsed": false
   },
   "outputs": [],
   "source": [
    "print 'The resultant matrix is:\\n', Wij\n",
    "print\n",
    "for i, (val, vec) in enumerate(zip(vals, vecs)):\n",
    "    print '\\nSolution ',i\n",
    "    print ' Growth rate =', val\n",
    "    for i, c in enumerate(vec):\n",
    "        print '    a{0} = {1}'.format(i+1, c)"
   ]
  },
  {
   "cell_type": "markdown",
   "metadata": {},
   "source": [
    "### Halo parameters ###\n",
    "   .\n",
    "   \n",
    "2. `halo_Galerkin_ngrid`   \n",
    "    Number of grid points used for the Galerkin expansion calculations.\n",
    "    \n",
    "    .\n",
    "   \n",
    "2. `halo_alpha_function` -  Default: `gmf_tool.halo_profiles.simple_alpha`\n",
    "    alpha-effect profile. By default, it is assumed simply:\n",
    "    $\\alpha \\propto \\cos(\\theta)\\,$.\n",
    "\n",
    "    .\n",
    "2. `halo_dynamo_type` - Default: `'alpha-omega'`\n",
    "\n",
    "    Chooses the dominant type of dynamo. Available options:\n",
    "    `'alpha-omega'` and `'alpha2-omega'`.\n",
    "\n",
    "    .\n",
    "2. `halo_growing_mode_only` - Default: `False`.\n",
    "\n",
    "    If true, returns a zero field if all modes are decaying for \n",
    "    a particular choice of parameters. \n",
    "    \n",
    "    .\n",
    "2. `halo_n_free_decay_modes` - Default: `4`\n",
    "\n",
    "    Number of free decay modes to be used for the Galerkin expansion.\n",
    "    Currently, only the first 4 free decay modes of each symmetry\n",
    "    (symmetric or anti-symmetric) are available.\n",
    "\n",
    "    .\n",
    "2. `halo_radius` - Default: 20 [${\\rm kpc}$]\n",
    "    \n",
    "    Radius of the dynamo active region of the halo.\n",
    "\n",
    "    .   \n",
    "2. `halo_ref_Bphi` - Default: 0.1 [${\\mu\\rm G}$]\n",
    "    \n",
    "    Strength of the halo magnetic field at the halo reference point.\n",
    "    \n",
    "    .\n",
    "2. `halo_ref_radius` - Default: 8.5 [${\\rm kpc}$]\n",
    "    \n",
    "    Cylindrical radius of the halo reference point.\n",
    "    \n",
    "    .\n",
    "2. `halo_ref_z` - Default: 0.02 [${\\rm kpc}$]\n",
    "    \n",
    "    z-coordinate of the halo reference point.\n",
    "    \n",
    "    .   \n",
    "2. `halo_rotation_function` -  Default: `gmf_tool.halo_profiles.simple_V`\n",
    "\n",
    "    Rotation curve of the halo. By default a simple rotation \n",
    "    curve with no z dependence,  exponentially decaying with \n",
    "    the cylindrical radius, is assumed.\n",
    "    \n",
    "    .\n",
    "2. `halo_rotation_induction` - Default: 200\n",
    "    \n",
    "    Dimensionless induction by differential rotation, $R_\\omega$, for \n",
    "    the halo.\n",
    "    \n",
    "    .   \n",
    "2. `halo_symmetric_field` - Default: `True`\n",
    "    \n",
    "    If True, the field is assumed to be symmetric over the midplane.\n",
    "    If False, it is assumed to be anti-symmetric.\n",
    "   \n",
    "    .\n",
    "2. `halo_turbulent_induction`: 0.6\n",
    "\n",
    "    Dimensionless intensity of helical turbulence, $R_\\alpha$, \n",
    "    for the halo.\n",
    "\n",
    "    "
   ]
  },
  {
   "cell_type": "markdown",
   "metadata": {},
   "source": [
    "## Plotting tools ##\n",
    "\n",
    "GalMag comes with a small selection of plotting tools, particularly to facilitate \n",
    "the preparation of 2D slices for diagnostic. These can be found in the \n",
    "`galmag.analysis.visualization` module."
   ]
  },
  {
   "cell_type": "code",
   "execution_count": null,
   "metadata": {
    "collapsed": false,
    "scrolled": true
   },
   "outputs": [],
   "source": [
    "help(galmag.analysis.visualization)"
   ]
  },
  {
   "cell_type": "markdown",
   "metadata": {},
   "source": [
    "## Advanced ##\n",
    "\n",
    "### Adding extra major components ###\n",
    "\n",
    "If one explores the `B_field` object a little further, one finds \n",
    "there is a method called `B_field.set_field_component` which takes\n",
    "a component name and a `B_field_component` object as inputs.\n",
    "\n",
    "We exemplify, below, how to add an extra personalised gaussian\n",
    "noise field component to our `B_field` object. \n",
    "\n",
    "We start by generating noisy field."
   ]
  },
  {
   "cell_type": "code",
   "execution_count": null,
   "metadata": {
    "collapsed": false
   },
   "outputs": [],
   "source": [
    "from galmag.util import derive\n",
    "\n",
    "mu = 0\n",
    "sigma = 0.1 / 6.43 # magic number..\n",
    "\n",
    "# Define a random vector potential \n",
    "Anoise = {} # Dictionary of vector components\n",
    "for i, c in enumerate(('x','y','z')):\n",
    "    Anoise[c] = np.random.normal(mu, sigma, B.resolution.prod())\n",
    "    Anoise[c] = Anoise[c].reshape(B.resolution)\n",
    "\n",
    "# Prepares the derivatives to compute the curl\n",
    "dBi_dj ={}\n",
    "for i, c in enumerate(['x','y','z']):\n",
    "    for j, d in enumerate(['x','y','z']):\n",
    "        dj = (B.box[j,-1]-B.box[j,0])/float(B.resolution[j])\n",
    "        dBi_dj[c,d] = derive(Anoise[c],dj, axis=j)\n",
    "\n",
    "# Computes the curl of Anoise\n",
    "tmpBnoise = {}        \n",
    "tmpBnoise['x'] = dBi_dj['z','y'] -  dBi_dj['y','z']\n",
    "tmpBnoise['y'] = dBi_dj['x','z'] -  dBi_dj['z','x']\n",
    "tmpBnoise['z'] = dBi_dj['y','x'] -  dBi_dj['x','y']\n",
    "\n",
    "del dBi_dj; del Anoise\n",
    "\n",
    "for c in tmpBnoise:\n",
    "    print 'B{0}: mean = {1}  std = {2}'.format(c, \n",
    "                                                tmpBnoise[c].mean(),\n",
    "                                                tmpBnoise[c].std())"
   ]
  },
  {
   "cell_type": "markdown",
   "metadata": {},
   "source": [
    "Note that the format is compatible with the grid of the previously\n",
    "generated field object. \n",
    "\n",
    "Now, we can use these data create a `B_field_component` object. \n",
    "Note that we included the parameters used for generating the data\n",
    "for future reference."
   ]
  },
  {
   "cell_type": "code",
   "execution_count": null,
   "metadata": {
    "collapsed": false
   },
   "outputs": [],
   "source": [
    "from galmag.B_field import B_field_component \n",
    "Bnoise_component = B_field_component(B.grid, \n",
    "                                     x=tmpBnoise['x'],\n",
    "                                     y=tmpBnoise['y'],\n",
    "                                     z=tmpBnoise['z'],\n",
    "                                     parameters={'mu': mu, \n",
    "                                                 'sigma':sigma})\n",
    "del tmpBnoise"
   ]
  },
  {
   "cell_type": "markdown",
   "metadata": {},
   "source": [
    "One can now access the x,y,z vector components through\n",
    "the `Bnoise_component`'s attributes.\n",
    "\n",
    "One can also access the same information in a cylindrical or spherical coordinate system."
   ]
  },
  {
   "cell_type": "code",
   "execution_count": null,
   "metadata": {
    "collapsed": false
   },
   "outputs": [],
   "source": [
    "print 'A sample of Bnoise_x'\n",
    "print Bnoise_component.x[1:3,1:3,1:3]\n",
    "print '\\nA sample of Bnoise_theta'\n",
    "print Bnoise_component.theta[1:3,1:3,1:3]"
   ]
  },
  {
   "cell_type": "markdown",
   "metadata": {},
   "source": [
    "Finally, one can add this component to the previously defined \n",
    "B_field object using"
   ]
  },
  {
   "cell_type": "code",
   "execution_count": null,
   "metadata": {
    "collapsed": false
   },
   "outputs": [],
   "source": [
    "B.set_field_component('noise',Bnoise_component)\n",
    "\n",
    "print 'Brms', (B.noise.x**2+B.noise.y**2+B.noise.z**2).mean()**0.5"
   ]
  },
  {
   "cell_type": "markdown",
   "metadata": {},
   "source": [
    "Now the new component can be accessed easily using `B.noise`."
   ]
  },
  {
   "cell_type": "code",
   "execution_count": null,
   "metadata": {
    "collapsed": false
   },
   "outputs": [],
   "source": [
    "figure(figsize=(13.1,11))\n",
    "subplot(2,2,1)\n",
    "title('noise only')\n",
    "plot_x_z_uniform(B.noise, skipx=4,skipz=4, iy=49)\n",
    "subplot(2,2,2)\n",
    "title('noise + halo + disk')\n",
    "plot_x_z_uniform(B, skipx=4,skipz=4, iy=49)\n",
    "subplot(2,2,3)\n",
    "title('noise only')\n",
    "plot_x_y_uniform(B.noise, skipy=4,skipx=4, iz=49, field_lines=False)\n",
    "subplot(2,2,4)\n",
    "title('noise + halo + disk')\n",
    "plot_x_y_uniform(B, skipy=4,skipx=4, iz=49, field_lines=False)\n",
    "show()"
   ]
  },
  {
   "cell_type": "markdown",
   "metadata": {},
   "source": [
    "### Generators ###\n",
    "\n",
    "To produce the built-in field and halo field components, a generator class is used.\n",
    "The generator is actually stored in the `B_component_field` object itself. E.g."
   ]
  },
  {
   "cell_type": "code",
   "execution_count": null,
   "metadata": {
    "collapsed": false
   },
   "outputs": [],
   "source": [
    "B.halo.generator"
   ]
  },
  {
   "cell_type": "markdown",
   "metadata": {},
   "source": [
    "All the *physics* is coded in the generator classes $-$ while the `B_field` and \n",
    "`B_field_component` classes deal only with coordinate transformations and convenience.\n",
    "\n",
    "The reader is invited to inspect the documentation of \n",
    "`galmag.B_generators.B_generator_halo.B_generator_halo`\n",
    "and \n",
    "`galmag.B_generators.B_generator_disk.B_generator_disk`\n",
    "for further details on the computation of the magnetic fields.\n",
    "\n",
    "One can use the generators directly to produce the magnetic field components \n",
    "(and then possibly include them using the `set_field_component` method). Also,\n",
    "for the sake of consistency, long term inclusion of new components \n",
    "(e.g. a random/turbulent field component) should be implemented using \n",
    "similar generators."
   ]
  }
 ],
 "metadata": {
  "kernelspec": {
   "display_name": "Python 2",
   "language": "python",
   "name": "python2"
  },
  "language_info": {
   "codemirror_mode": {
    "name": "ipython",
    "version": 2
   },
   "file_extension": ".py",
   "mimetype": "text/x-python",
   "name": "python",
   "nbconvert_exporter": "python",
   "pygments_lexer": "ipython2",
   "version": "2.7.12"
  }
 },
 "nbformat": 4,
 "nbformat_minor": 0
}
