{
 "metadata": {
  "name": "",
  "signature": "sha256:88b50c5402f93e441014066ad84c299c6eb1fb7fec0b00973196a477c0143d43"
 },
 "nbformat": 3,
 "nbformat_minor": 0,
 "worksheets": [
  {
   "cells": [
    {
     "cell_type": "markdown",
     "metadata": {},
     "source": [
      "GMF_tool - A Python tool for computing realistic galactic magnetic fields\n",
      "-------------------------------------------------------------------------\n",
      "\n",
      "\n"
     ]
    },
    {
     "cell_type": "code",
     "collapsed": false,
     "input": [],
     "language": "python",
     "metadata": {},
     "outputs": []
    }
   ],
   "metadata": {}
  }
 ]
}