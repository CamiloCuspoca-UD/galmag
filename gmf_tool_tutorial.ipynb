{
 "metadata": {
  "name": "",
  "signature": "sha256:5561e8027aede35560feb3369c373c63cb24e903081d3c68ca3e5b64ec73722e"
 },
 "nbformat": 3,
 "nbformat_minor": 0,
 "worksheets": [
  {
   "cells": [
    {
     "cell_type": "markdown",
     "metadata": {},
     "source": [
      "# GalMag - A Python tool for computing realistic galactic magnetic fields"
     ]
    },
    {
     "cell_type": "markdown",
     "metadata": {},
     "source": [
      "Welcome to the GalMag tutorial and basic usage guide."
     ]
    },
    {
     "cell_type": "markdown",
     "metadata": {},
     "source": [
      "### Quick start\n",
      "\n",
      "The code uses an object named  `B_field` to store all the magnetic field information.\n",
      "\n",
      "Associated with this, there is a coordinate grid which has to be set up at the time of the \n",
      "`B_field` initialization."
     ]
    },
    {
     "cell_type": "code",
     "collapsed": false,
     "input": [
      "import gmf_tool\n",
      "from gmf_tool.B_field import B_field\n",
      "\n",
      "# Maximum and minimum values of the coordinates for each direction\n",
      "box_limits = [[-15, 15],[-15, 15],[-15, 15]] # kpc\n",
      "box_resolution = [100,100,100]\n",
      "\n",
      "B = B_field(box_limits, box_resolution)"
     ],
     "language": "python",
     "metadata": {},
     "outputs": [],
     "prompt_number": 1
    },
    {
     "cell_type": "markdown",
     "metadata": {},
     "source": [
      "The grid - which is an uniform cartesian grid in the default case - can be accessed through the attribute `B_field.grid`. \n",
      "\n",
      "This attribute contains a Grid object, which itself contains [distributed data objects](https://gitlab.mpcdf.mpg.de/ift/D2O) (or d2o's, which are basically *parallelizable* [numpy](http://www.numpy.org/) arrays) in the coordinate attributes `x`, `y`, `z`, `r_cylindrical`, `r_spherical`, `theta` and `phi`. \n",
      "\n",
      "The coordinate systems place the galactic mid-plane at $z=0$, $\\theta = \\pi/2$."
     ]
    },
    {
     "cell_type": "code",
     "collapsed": false,
     "input": [
      "# Example access to the coordinate grid\n",
      "print 'r_cylindrical type:',type(B.grid.r_spherical)\n",
      "print 'r_cylindrical-grid shape:', B.grid.r_cylindrical.shape"
     ],
     "language": "python",
     "metadata": {},
     "outputs": [
      {
       "output_type": "stream",
       "stream": "stdout",
       "text": [
        "r_cylindrical type:"
       ]
      },
      {
       "output_type": "stream",
       "stream": "stdout",
       "text": [
        " <class 'd2o.distributed_data_object.distributed_data_object'>\n",
        "r_cylindrical-grid shape: (100, 100, 100)\n"
       ]
      }
     ],
     "prompt_number": 2
    },
    {
     "cell_type": "markdown",
     "metadata": {},
     "source": [
      "Once the `B_field` object is initialized, one can add a disk field component. \n",
      "One can do this by specifying\n",
      "1. The strength of $B_\\phi$ (the azimutal component of the magnetic field) \n",
      "   at the solar radius (on the midplade),\n",
      "2. The positions of the field reversals (the code will try to find solutions\n",
      "   with *at least* these reversals, but there can be more of them),\n",
      "3. The minimum number of modes to be used for this.\n",
      "\n",
      "Itens 1 and 3 are actually optional: if absent, a strength of $-3\\mu{\\rm G}$ is\n",
      "assumed for the $\\phi$ component at the solar radius. There are, of course,\n",
      "many other parameters involved in this calculation which for now are kept with\n",
      "their default values.\n",
      "\n",
      "The following code snippet exemplifies the use of `B_field.add_disk_field` method."
     ]
    },
    {
     "cell_type": "code",
     "collapsed": false,
     "input": [
      "reversals_positions = [6.25,] # Requires only 1 field reversal at 6.25 kpc\n",
      "B_phi_solar_radius = 3 # muG \n",
      "number_of_modes = 3\n",
      "\n",
      "B.add_disk_field(reversals=reversals_positions, \n",
      "                 B_phi_solar_radius=B_phi_solar_radius,\n",
      "                 number_of_components=number_of_modes)"
     ],
     "language": "python",
     "metadata": {},
     "outputs": [],
     "prompt_number": 4
    },
    {
     "cell_type": "markdown",
     "metadata": {},
     "source": [
      "One can also include a halo field, using the `B_field.add_halo_field` method. \n",
      "\n",
      "Here we keep all the parameters with their standard values and choose to use only \n",
      "adjust the value of $B_{\\phi, {\\rm halo}}$ at a reference position which roughly \n",
      "corresponds to the position of the Sun in the Galaxy."
     ]
    },
    {
     "cell_type": "code",
     "collapsed": false,
     "input": [
      "Bphi_sun = 1 # muG at the Sun's position\n",
      "\n",
      "B.add_halo_field(halo_ref_Bphi=Bphi_sun)"
     ],
     "language": "python",
     "metadata": {},
     "outputs": [],
     "prompt_number": 10
    },
    {
     "cell_type": "markdown",
     "metadata": {},
     "source": [
      "Now the galactic magnetic field has been computed and is stored in the `B_field` object. \n",
      "Specific field components can be accessed in the same way grid as grid components were\n",
      "accessed. The following snippet exemplifies this showing the $x$-depence of $B_\\phi$"
     ]
    },
    {
     "cell_type": "code",
     "collapsed": false,
     "input": [
      "x = array(B.grid.x)\n",
      "Bphi = array(B.phi)\n",
      "y = B.grid.x[50,50,50]\n",
      "z = B.grid.x[50,50,50]\n",
      "title('$y={0:.2f}$, $z={1:.2f}$'.format(y,z), fontsize=16)\n",
      "plot(x[50:,50,50], Bphi[50:,50,50], )\n",
      "xlabel(r'$x\\,\\,[{\\rm kpc}]$', fontsize=16)\n",
      "ylabel(r'$B_\\phi\\,\\,[\\mu{\\rm G}]$', fontsize=16)\n",
      "grid()"
     ],
     "language": "python",
     "metadata": {},
     "outputs": [
      {
       "metadata": {},
       "output_type": "display_data",
       "png": "[encoded data removed]",
       "text": [
        "<matplotlib.figure.Figure at 0x7f25e811b050>"
       ]
      }
     ],
     "prompt_number": 11
    },
    {
     "cell_type": "markdown",
     "metadata": {},
     "source": [
      "Obs. Note that the slicing used to create the previous plot exploits the fact that the indices in the cartesian follow the coordinates (i.e. the first index corresponds to $x$, the second to $y$ and the third to $z$). "
     ]
    },
    {
     "cell_type": "markdown",
     "metadata": {},
     "source": [
      "Separate field information can be accessed at any point through the attributes \n",
      "`B_field.disk` and `B_field.halo`. For example, it is possible to plot the\n",
      "$x$-dependence of the halo field in the following way."
     ]
    },
    {
     "cell_type": "code",
     "collapsed": false,
     "input": [
      "x = array(B.grid.x)\n",
      "Bphi_halo = array(B.halo.phi)\n",
      "y = B.grid.x[50,50,50]\n",
      "z = B.grid.x[50,50,50]\n",
      "title('$y={0:.2f}$, $z={1:.2f}$'.format(y,z), fontsize=16)\n",
      "plot(x[50:,50,50], Bphi_halo[50:,50,50], )\n",
      "xlabel(r'$x\\,\\,[{\\rm kpc}]$', fontsize=16)\n",
      "ylabel(r'$B_{\\phi,\\rm halo}\\,\\,[\\mu{\\rm G}]$', fontsize=16)\n",
      "grid()"
     ],
     "language": "python",
     "metadata": {},
     "outputs": [
      {
       "metadata": {},
       "output_type": "display_data",
       "png": "[encoded data removed]",
       "text": [
        "<matplotlib.figure.Figure at 0x7f25c8b7f510>"
       ]
      }
     ],
     "prompt_number": 13
    }
   ],
   "metadata": {}
  }
 ]
}